{
 "cells": [
  {
   "cell_type": "code",
   "execution_count": 5,
   "metadata": {},
   "outputs": [],
   "source": [
    "#Packages imported\n",
    "import os\n",
    "import pandas as pd\n",
    "import numpy as np\n",
    "import matplotlib.pyplot as plt\n",
    "import itertools\n",
    "import scipy.stats\n",
    "from scipy.stats import chi2_contingency\n",
    "from scipy.stats import chi2\n"
   ]
  },
  {
   "cell_type": "code",
   "execution_count": 6,
   "metadata": {},
   "outputs": [],
   "source": [
    "os.chdir('C:\\\\Users\\\\abhi3\\\\Downloads')\n",
    "cars = pd.read_csv(\"cars.csv\")  "
   ]
  },
  {
   "cell_type": "code",
   "execution_count": 7,
   "metadata": {},
   "outputs": [],
   "source": [
    "#Graph Function which takes dataset,column name, directory, correlation(T/F)(Improvisation),chi test(T/F)(Improvisation) as input\n",
    "def graph(data,columns=None,directory=None,correlation = False,chi=False):\n",
    "    col_list=[]                         #For column names on which graph will be plotted\n",
    "    if columns==None:\n",
    "        col_list=list(data.columns)\n",
    "    elif type(columns) is str:\n",
    "        col_list.append(columns)\n",
    "    elif type(columns) is list:\n",
    "        for i in columns:\n",
    "            col_list.append(i)\n",
    "            \n",
    "    dir = os.getcwd()                   #For directory\n",
    "    if directory == None:\n",
    "        directory = os.getcwd()\n",
    "        folder = 'Graphs'\n",
    "        os.mkdir(folder)\n",
    "        os.chdir(directory+'/'+folder)\n",
    "    else:\n",
    "        os.chdir(directory)\n",
    "        os.mkdir('Graphs')\n",
    "        os.chdir(directory+'Graphs')\n",
    "        \n",
    "    num_cols=[]\n",
    "    cat_cols=[]\n",
    "    col_i_list=[]\n",
    "    col_i_list=[]\n",
    "    \n",
    "    for j in col_list:                 #Check for data types of the columns\n",
    "        if data[j].dtype=='object':\n",
    "            cat_cols.append(j)\n",
    "        elif data[j].dtype=='float':\n",
    "            num_cols.append(j)\n",
    "        elif data[j].dtype=='int64':\n",
    "            if len(list(pd.Categorical(data[j]).categories))<int(0.1*(data[j].size)):\n",
    "                cat_cols.append(j)\n",
    "            else:\n",
    "                num_cols.append(j)\n",
    "    \n",
    "    for num in num_cols:             #For numeric data column\n",
    "        data.hist(column=num,        #Histogram\n",
    "          grid=False,         \n",
    "          figsize = (10,8),    \n",
    "          bins=10,\n",
    "          color = 'red',\n",
    "          edgecolor='white')\n",
    "        plt.xlabel(num,fontsize=12)\n",
    "        plt.ylabel(\"Number of Cars\", fontsize=12)\n",
    "        plt.title(\"Histogram of \" +num, fontsize=16)\n",
    "        plt.savefig(num+\" Histogram.png\" )       #Exporting to the folder\n",
    "        plt.clf()\n",
    "        #plt.show()\n",
    "        data.boxplot(column=num,     #Boxplot\n",
    "             grid=False,         \n",
    "             figsize = (6,4),\n",
    "             vert = False)    #To plot a horizontal boxplot\n",
    "        plt.title(\"Boxplot of \" +num, fontsize=16)\n",
    "        plt.savefig(num+\" Boxplot.png\" )        #Exporting to the folder\n",
    "        plt.clf()\n",
    "        #plt.show()\n",
    "    print('--------------------------------------------------------------------------------------------------------')\n",
    "    \n",
    "    \n",
    "    for cat in cat_cols:               #For numeric data column\n",
    "        data[cat].value_counts().plot(kind='bar', figsize=(10,10),  #Bargraph\n",
    "                                        color=\"coral\", fontsize=13)\n",
    "        plt.xlabel(cat,fontsize=12)\n",
    "        plt.ylabel(\"Number of Cars\", fontsize=12)\n",
    "        plt.title(\"Barplot of \" +cat, fontsize=16)\n",
    "        plt.savefig(cat+\" Barplot.png\" )    #Exporting to the folder\n",
    "        plt.clf()\n",
    "\n",
    "        plt.show()\n",
    "        print('--------------------------------------------------------------------------------------------------------')\n",
    "        \n",
    "#A correlation matrix is a table showing correlation coefficients between variables. \n",
    "#Each cell in the table shows the correlation between two variables. \n",
    "#A correlation matrix is used as a way to summarize data, as an input into a more advanced analysis, \n",
    "#and as a diagnostic for advanced analyses.        \n",
    "\n",
    "\n",
    "    if(correlation==True):               #Improvisation(Correlation Matrix)\n",
    "            import seaborn as sns\n",
    "            sns.heatmap(data.corr(),linewidths=.5,vmin=0,vmax=1)\n",
    "            plt.title(\"Heat Map\" +num, fontsize=16)\n",
    "            plt.savefig(num+\"Heatmap.png\" )      #Exporting to the folder\n",
    "            plt.clf()\n",
    "            \n",
    "#The chi test is used to determine whether an association (or relationship) \n",
    "#between 2 categorical variables in a sample is likely to reflect a real association between \n",
    "#these 2 variables in the population.\n",
    "\n",
    "    if chi==True:                       #Improvisation(Chi test)\n",
    "        print(cat_cols)\n",
    "        for col_i, col_j in itertools.combinations(cat_cols, 2):\n",
    "            \n",
    "            #print(data.groupby([col_i, col_j]).size())\n",
    "            contingency_table=pd.crosstab(data[col_i],data[col_j])\n",
    "            #print('contingency_table :-\\n',contingency_table)\n",
    "            Observed_Values = contingency_table.values \n",
    "            statobjExpVal=scipy.stats.chi2_contingency(contingency_table)\n",
    "            Expected_Values = statobjExpVal[3]\n",
    "            no_of_rows=len(contingency_table.iloc[0:2,0])\n",
    "            no_of_columns=len(contingency_table.iloc[0,0:2])\n",
    "            df=(no_of_rows-1)*(no_of_columns-1)\n",
    "            print(\"Degree of Freedom:-\",df)\n",
    "\n",
    "            alpha=0.05 #significance level\n",
    "            chi_square=sum([(o-e)**2./e for o,e in zip(Observed_Values,Expected_Values)])\n",
    "            chi_square_statistic=chi_square[0]+chi_square[1]\n",
    "            print(\"chi-square statistic:-\",chi_square_statistic)\n",
    "\n",
    "            critical_value=chi2.ppf(q=1-alpha,df=df)\n",
    "            print('critical_value:',critical_value)\n",
    "            \n",
    "            p_value=1-chi2.cdf(x=chi_square_statistic,df=df)\n",
    "            print('p-value:',p_value)\n",
    "\n",
    "            print(\"Regarding the variables \", col_i, \" and \", col_j)\n",
    "            \n",
    "            if chi_square_statistic>=critical_value:\n",
    "                print('There is a relationship between ',col_i,'and',col_j,' categorical variables with chi_square_statistic',chi_square_statistic)\n",
    "            else:\n",
    "                print('There is no relationship between ',col_i,'and',col_j,' categorical variables')\n",
    "\n",
    "            if p_value<=alpha:\n",
    "                print ('There is a relationship between ',col_i,'and',col_j,' categorical variables with p_value',p_value)\n",
    "            else:\n",
    "                print('There is no relationship between ',col_i,'and',col_j,' categorical variables')\n",
    "                \n",
    "            \n",
    "    os.chdir(dir) \n",
    "      \n",
    "            \n",
    "            \n",
    "            "
   ]
  },
  {
   "cell_type": "code",
   "execution_count": 8,
   "metadata": {},
   "outputs": [
    {
     "name": "stdout",
     "output_type": "stream",
     "text": [
      "--------------------------------------------------------------------------------------------------------\n"
     ]
    },
    {
     "data": {
      "text/plain": [
       "<Figure size 720x576 with 0 Axes>"
      ]
     },
     "metadata": {},
     "output_type": "display_data"
    },
    {
     "data": {
      "text/plain": [
       "<Figure size 720x576 with 0 Axes>"
      ]
     },
     "metadata": {},
     "output_type": "display_data"
    },
    {
     "data": {
      "text/plain": [
       "<Figure size 720x576 with 0 Axes>"
      ]
     },
     "metadata": {},
     "output_type": "display_data"
    },
    {
     "data": {
      "text/plain": [
       "<Figure size 720x576 with 0 Axes>"
      ]
     },
     "metadata": {},
     "output_type": "display_data"
    },
    {
     "data": {
      "text/plain": [
       "<Figure size 720x720 with 0 Axes>"
      ]
     },
     "metadata": {},
     "output_type": "display_data"
    },
    {
     "name": "stdout",
     "output_type": "stream",
     "text": [
      "--------------------------------------------------------------------------------------------------------\n"
     ]
    },
    {
     "data": {
      "text/plain": [
       "<Figure size 720x720 with 0 Axes>"
      ]
     },
     "metadata": {},
     "output_type": "display_data"
    },
    {
     "name": "stdout",
     "output_type": "stream",
     "text": [
      "--------------------------------------------------------------------------------------------------------\n"
     ]
    },
    {
     "data": {
      "text/plain": [
       "<Figure size 720x720 with 0 Axes>"
      ]
     },
     "metadata": {},
     "output_type": "display_data"
    },
    {
     "name": "stdout",
     "output_type": "stream",
     "text": [
      "--------------------------------------------------------------------------------------------------------\n"
     ]
    },
    {
     "data": {
      "text/plain": [
       "<Figure size 720x720 with 0 Axes>"
      ]
     },
     "metadata": {},
     "output_type": "display_data"
    },
    {
     "name": "stdout",
     "output_type": "stream",
     "text": [
      "--------------------------------------------------------------------------------------------------------\n",
      "['Car', 'Cylinders', 'Model', 'Origin']\n",
      "Degree of Freedom:- 1\n",
      "chi-square statistic:- 596.0966183574862\n",
      "critical_value: 3.841458820694124\n",
      "p-value: 0.0\n",
      "Regarding the variables  Car  and  Cylinders\n",
      "There is a relationship between  Car and Cylinders  categorical variables with chi_square_statistic 596.0966183574862\n",
      "There is a relationship between  Car and Cylinders  categorical variables with p_value 0.0\n",
      "Degree of Freedom:- 1\n",
      "chi-square statistic:- 544.0755555555561\n",
      "critical_value: 3.841458820694124\n",
      "p-value: 0.0\n",
      "Regarding the variables  Car  and  Model\n",
      "There is a relationship between  Car and Model  categorical variables with chi_square_statistic 544.0755555555561\n",
      "There is a relationship between  Car and Model  categorical variables with p_value 0.0\n",
      "Degree of Freedom:- 1\n",
      "chi-square statistic:- 660.0000000000003\n",
      "critical_value: 3.841458820694124\n",
      "p-value: 0.0\n",
      "Regarding the variables  Car  and  Origin\n",
      "There is a relationship between  Car and Origin  categorical variables with chi_square_statistic 660.0000000000003\n",
      "There is a relationship between  Car and Origin  categorical variables with p_value 0.0\n",
      "Degree of Freedom:- 1\n",
      "chi-square statistic:- 28.889072923855537\n",
      "critical_value: 3.841458820694124\n",
      "p-value: 7.664407242202742e-08\n",
      "Regarding the variables  Cylinders  and  Model\n",
      "There is a relationship between  Cylinders and Model  categorical variables with chi_square_statistic 28.889072923855537\n",
      "There is a relationship between  Cylinders and Model  categorical variables with p_value 7.664407242202742e-08\n",
      "Degree of Freedom:- 1\n",
      "chi-square statistic:- 123.74264870339236\n",
      "critical_value: 3.841458820694124\n",
      "p-value: 0.0\n",
      "Regarding the variables  Cylinders  and  Origin\n",
      "There is a relationship between  Cylinders and Origin  categorical variables with chi_square_statistic 123.74264870339236\n",
      "There is a relationship between  Cylinders and Origin  categorical variables with p_value 0.0\n",
      "Degree of Freedom:- 1\n",
      "chi-square statistic:- 34.12485693006159\n",
      "critical_value: 3.841458820694124\n",
      "p-value: 5.168678263167692e-09\n",
      "Regarding the variables  Model  and  Origin\n",
      "There is a relationship between  Model and Origin  categorical variables with chi_square_statistic 34.12485693006159\n",
      "There is a relationship between  Model and Origin  categorical variables with p_value 5.168678263167692e-09\n"
     ]
    },
    {
     "data": {
      "text/plain": [
       "<Figure size 432x288 with 0 Axes>"
      ]
     },
     "metadata": {},
     "output_type": "display_data"
    }
   ],
   "source": [
    "graph(cars,None,None,True,True)"
   ]
  },
  {
   "cell_type": "code",
   "execution_count": null,
   "metadata": {},
   "outputs": [],
   "source": []
  },
  {
   "cell_type": "code",
   "execution_count": null,
   "metadata": {},
   "outputs": [],
   "source": []
  },
  {
   "cell_type": "code",
   "execution_count": null,
   "metadata": {},
   "outputs": [],
   "source": []
  }
 ],
 "metadata": {
  "kernelspec": {
   "display_name": "Python 3",
   "language": "python",
   "name": "python3"
  },
  "language_info": {
   "codemirror_mode": {
    "name": "ipython",
    "version": 3
   },
   "file_extension": ".py",
   "mimetype": "text/x-python",
   "name": "python",
   "nbconvert_exporter": "python",
   "pygments_lexer": "ipython3",
   "version": "3.7.3"
  }
 },
 "nbformat": 4,
 "nbformat_minor": 2
}
